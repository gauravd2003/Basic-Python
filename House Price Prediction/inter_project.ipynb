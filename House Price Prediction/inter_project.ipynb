{
 "cells": [
  {
   "cell_type": "code",
   "execution_count": 1,
   "id": "6de37e5b",
   "metadata": {},
   "outputs": [
    {
     "name": "stderr",
     "output_type": "stream",
     "text": [
      "c:\\Users\\HP\\anaconda3\\Lib\\site-packages\\pandas\\core\\arrays\\masked.py:60: UserWarning: Pandas requires version '1.3.6' or newer of 'bottleneck' (version '1.3.5' currently installed).\n",
      "  from pandas.core import (\n"
     ]
    }
   ],
   "source": [
    "import os\n",
    "import numpy as np\n",
    "from tqdm import tqdm\n",
    "import tensorflow as tf\n",
    "from tensorflow.keras.applications.inception_v3 import InceptionV3, preprocess_input\n",
    "from tensorflow.keras.preprocessing import image\n",
    "from tensorflow.keras.models import Model\n",
    "from tensorflow.keras.preprocessing.text import Tokenizer\n",
    "from tensorflow.keras.preprocessing.sequence import pad_sequences\n",
    "from tensorflow.keras.layers import Input, Dense, Embedding, LSTM, Dropout, add\n",
    "from tensorflow.keras.utils import to_categorical"
   ]
  },
  {
   "cell_type": "code",
   "execution_count": 2,
   "id": "b777ae45",
   "metadata": {},
   "outputs": [],
   "source": [
    "# ------------------------ Load Captions ------------------------\n",
    "def load_captions(captions_path):\n",
    "    with open(captions_path, 'r') as f:\n",
    "        lines = f.readlines()\n",
    "    img_to_captions = {}\n",
    "    for line in lines:\n",
    "        img, caption = line.strip().split('\\t')\n",
    "        img = img.split('#')[0]\n",
    "        img_to_captions.setdefault(img, []).append(caption)\n",
    "    return img_to_captions"
   ]
  },
  {
   "cell_type": "code",
   "execution_count": 12,
   "id": "58617190",
   "metadata": {},
   "outputs": [],
   "source": [
    "# ------------------------ Tokenize Captions ------------------------\n",
    "def tokenize_captions(img_to_captions):\n",
    "    all_captions = []\n",
    "    for captions in img_to_captions.values():\n",
    "        for cap in captions:\n",
    "            all_captions.append(\"startseq \" + cap + \" endseq\")\n",
    "    tokenizer = Tokenizer(num_words=5000, oov_token='<unk>')\n",
    "    tokenizer.fit_on_texts(all_captions)\n",
    "    max_length = max(len(cap.split()) for cap in all_captions)\n",
    "    return tokenizer, max_length"
   ]
  },
  {
   "cell_type": "code",
   "execution_count": 13,
   "id": "3273b6fb",
   "metadata": {},
   "outputs": [],
   "source": [
    "# ------------------------ CNN Feature Extraction ------------------------\n",
    "def load_cnn_model():\n",
    "    base_model = InceptionV3(weights='imagenet')\n",
    "    return Model(base_model.input, base_model.layers[-2].output)\n",
    "\n",
    "def preprocess_img(img_path):\n",
    "    img = image.load_img(img_path, target_size=(299, 299))\n",
    "    img_array = image.img_to_array(img)\n",
    "    img_array = np.expand_dims(img_array, axis=0)\n",
    "    return preprocess_input(img_array)\n",
    "\n",
    "def extract_features(image_folder, img_to_captions, model):\n",
    "    image_features = {}\n",
    "    for img_name in tqdm(img_to_captions.keys()):\n",
    "        img_path = os.path.join(image_folder, img_name)\n",
    "        img_input = preprocess_img(img_path)\n",
    "        feature = model.predict(img_input)\n",
    "        image_features[img_name] = feature\n",
    "    return image_features\n"
   ]
  },
  {
   "cell_type": "code",
   "execution_count": 14,
   "id": "b9222b81",
   "metadata": {},
   "outputs": [],
   "source": [
    "# ------------------------ Build Model ------------------------\n",
    "def build_model(vocab_size, max_length):\n",
    "    inputs1 = Input(shape=(2048,))\n",
    "    fe1 = Dropout(0.5)(inputs1)\n",
    "    fe2 = Dense(256, activation='relu')(fe1)\n",
    "\n",
    "    inputs2 = Input(shape=(max_length,))\n",
    "    se1 = Embedding(vocab_size, 256, mask_zero=True)(inputs2)\n",
    "    se2 = Dropout(0.5)(se1)\n",
    "    se3 = LSTM(256)(se2)\n",
    "\n",
    "    decoder = add([fe2, se3])\n",
    "    decoder = Dense(256, activation='relu')(decoder)\n",
    "    outputs = Dense(vocab_size, activation='softmax')(decoder)\n",
    "\n",
    "    model = Model(inputs=[inputs1, inputs2], outputs=outputs)\n",
    "    model.compile(loss='categorical_crossentropy', optimizer='adam')\n",
    "    return model\n"
   ]
  },
  {
   "cell_type": "code",
   "execution_count": 15,
   "id": "ec2786a2",
   "metadata": {},
   "outputs": [],
   "source": [
    "\n",
    "# ------------------------ Data Generator ------------------------\n",
    "def data_generator(tokenizer, image_features, img_to_captions, max_length, vocab_size, batch_size=32):\n",
    "    while True:\n",
    "        X1, X2, y = [], [], []\n",
    "        for img, caps in img_to_captions.items():\n",
    "            for cap in caps:\n",
    "                cap_seq = tokenizer.texts_to_sequences([\"startseq \" + cap + \" endseq\"])[0]\n",
    "                for i in range(1, len(cap_seq)):\n",
    "                    in_seq, out_seq = cap_seq[:i], cap_seq[i]\n",
    "                    in_seq = pad_sequences([in_seq], maxlen=max_length)[0]\n",
    "                    out_seq = to_categorical([out_seq], num_classes=vocab_size)[0]\n",
    "                    X1.append(image_features[img][0])\n",
    "                    X2.append(in_seq)\n",
    "                    y.append(out_seq)\n",
    "                    if len(X1) == batch_size:\n",
    "                        yield [np.array(X1), np.array(X2)], np.array(y)\n",
    "                        X1, X2, y = [], [], []\n"
   ]
  },
  {
   "cell_type": "code",
   "execution_count": 16,
   "id": "db61c3c5",
   "metadata": {},
   "outputs": [],
   "source": [
    "# ------------------------ Caption Generation ------------------------\n",
    "def generate_caption(model, tokenizer, photo, max_length):\n",
    "    in_text = 'startseq'\n",
    "    for _ in range(max_length):\n",
    "        seq = tokenizer.texts_to_sequences([in_text])[0]\n",
    "        seq = pad_sequences([seq], maxlen=max_length)\n",
    "        yhat = model.predict([photo, seq], verbose=0)\n",
    "        yhat = np.argmax(yhat)\n",
    "        word = tokenizer.index_word.get(yhat)\n",
    "        if word is None or word == 'endseq':\n",
    "            break\n",
    "        in_text += ' ' + word\n",
    "    return in_text.replace('startseq', '').strip()"
   ]
  },
  {
   "cell_type": "code",
   "execution_count": 17,
   "id": "f69543d4",
   "metadata": {},
   "outputs": [
    {
     "ename": "UnicodeDecodeError",
     "evalue": "'utf-8' codec can't decode byte 0xff in position 0: invalid start byte",
     "output_type": "error",
     "traceback": [
      "\u001b[1;31m---------------------------------------------------------------------------\u001b[0m",
      "\u001b[1;31mUnicodeDecodeError\u001b[0m                        Traceback (most recent call last)",
      "Cell \u001b[1;32mIn[17], line 5\u001b[0m\n\u001b[0;32m      2\u001b[0m \u001b[38;5;28;01mif\u001b[39;00m \u001b[38;5;18m__name__\u001b[39m \u001b[38;5;241m==\u001b[39m \u001b[38;5;124m\"\u001b[39m\u001b[38;5;124m__main__\u001b[39m\u001b[38;5;124m\"\u001b[39m:\n\u001b[0;32m      3\u001b[0m         captions_path \u001b[38;5;241m=\u001b[39m\u001b[38;5;124mr\u001b[39m\u001b[38;5;124m\"\u001b[39m\u001b[38;5;124mC:/Users/HP/OneDrive/Pictures/trip matheran/IMG-20241221-WA0019.jpg\u001b[39m\u001b[38;5;124m\"\u001b[39m\n\u001b[1;32m----> 5\u001b[0m         img_to_captions \u001b[38;5;241m=\u001b[39m \u001b[43mload_captions\u001b[49m\u001b[43m(\u001b[49m\u001b[43mcaptions_path\u001b[49m\u001b[43m)\u001b[49m\n\u001b[0;32m      6\u001b[0m         tokenizer, max_length \u001b[38;5;241m=\u001b[39m tokenize_captions(img_to_captions)\n\u001b[0;32m      7\u001b[0m         vocab_size \u001b[38;5;241m=\u001b[39m \u001b[38;5;28mlen\u001b[39m(tokenizer\u001b[38;5;241m.\u001b[39mword_index) \u001b[38;5;241m+\u001b[39m \u001b[38;5;241m1\u001b[39m\n",
      "Cell \u001b[1;32mIn[2], line 4\u001b[0m, in \u001b[0;36mload_captions\u001b[1;34m(captions_path)\u001b[0m\n\u001b[0;32m      2\u001b[0m \u001b[38;5;28;01mdef\u001b[39;00m \u001b[38;5;21mload_captions\u001b[39m(captions_path):\n\u001b[0;32m      3\u001b[0m     \u001b[38;5;28;01mwith\u001b[39;00m \u001b[38;5;28mopen\u001b[39m(captions_path, \u001b[38;5;124m'\u001b[39m\u001b[38;5;124mr\u001b[39m\u001b[38;5;124m'\u001b[39m) \u001b[38;5;28;01mas\u001b[39;00m f:\n\u001b[1;32m----> 4\u001b[0m         lines \u001b[38;5;241m=\u001b[39m \u001b[43mf\u001b[49m\u001b[38;5;241;43m.\u001b[39;49m\u001b[43mreadlines\u001b[49m\u001b[43m(\u001b[49m\u001b[43m)\u001b[49m\n\u001b[0;32m      5\u001b[0m     img_to_captions \u001b[38;5;241m=\u001b[39m {}\n\u001b[0;32m      6\u001b[0m     \u001b[38;5;28;01mfor\u001b[39;00m line \u001b[38;5;129;01min\u001b[39;00m lines:\n",
      "File \u001b[1;32m<frozen codecs>:322\u001b[0m, in \u001b[0;36mdecode\u001b[1;34m(self, input, final)\u001b[0m\n",
      "\u001b[1;31mUnicodeDecodeError\u001b[0m: 'utf-8' codec can't decode byte 0xff in position 0: invalid start byte"
     ]
    }
   ],
   "source": [
    "# ------------------------ Main ------------------------\n",
    "if __name__ == \"__main__\":\n",
    "        captions_path =r\"C:/Users/HP/OneDrive/Pictures/trip matheran/IMG-20241221-WA0019.jpg\"\n",
    "\n",
    "        img_to_captions = load_captions(captions_path)\n",
    "        tokenizer, max_length = tokenize_captions(img_to_captions)\n",
    "        vocab_size = len(tokenizer.word_index) + 1\n",
    "\n",
    "        cnn_model = load_cnn_model()\n",
    "        image_features = extract_features(image_folder, img_to_captions, cnn_model)\n",
    "\n",
    "        model = build_model(vocab_size, max_length)\n",
    "        model.fit(data_generator(tokenizer, image_features, img_to_captions, max_length, vocab_size),steps_per_epoch=1000, epochs=10, verbose=1)\n",
    "\n",
    "# Test on a sample image    \n",
    "test_img = list(img_to_captions.keys())[0]\n",
    "print(\"Caption:\", generate_caption(model, tokenizer, image_features[test_img], max_length))\n"
   ]
  },
  {
   "cell_type": "code",
   "execution_count": null,
   "id": "a66d01a1",
   "metadata": {},
   "outputs": [
    {
     "ename": "ImportError",
     "evalue": "cannot import name 'BlipProcessor' from 'transformers' (c:\\Users\\HP\\anaconda3\\Lib\\site-packages\\transformers\\__init__.py)",
     "output_type": "error",
     "traceback": [
      "\u001b[1;31m---------------------------------------------------------------------------\u001b[0m",
      "\u001b[1;31mImportError\u001b[0m                               Traceback (most recent call last)",
      "Cell \u001b[1;32mIn[18], line 1\u001b[0m\n\u001b[1;32m----> 1\u001b[0m \u001b[38;5;28;01mfrom\u001b[39;00m \u001b[38;5;21;01mtransformers\u001b[39;00m \u001b[38;5;28;01mimport\u001b[39;00m BlipProcessor,BlipForConditionalGeneration\n\u001b[0;32m      2\u001b[0m \u001b[38;5;28;01mimport\u001b[39;00m \u001b[38;5;21;01mtkinter\u001b[39;00m \u001b[38;5;28;01mas\u001b[39;00m \u001b[38;5;21;01mtk\u001b[39;00m\n\u001b[0;32m      3\u001b[0m \u001b[38;5;28;01mfrom\u001b[39;00m \u001b[38;5;21;01mtkinter\u001b[39;00m \u001b[38;5;28;01mimport\u001b[39;00m Tk,filedialog , Label,Button\n",
      "\u001b[1;31mImportError\u001b[0m: cannot import name 'BlipProcessor' from 'transformers' (c:\\Users\\HP\\anaconda3\\Lib\\site-packages\\transformers\\__init__.py)"
     ]
    }
   ],
   "source": []
  },
  {
   "cell_type": "code",
   "execution_count": null,
   "id": "855cf469",
   "metadata": {},
   "outputs": [],
   "source": []
  }
 ],
 "metadata": {
  "kernelspec": {
   "display_name": "base",
   "language": "python",
   "name": "python3"
  },
  "language_info": {
   "codemirror_mode": {
    "name": "ipython",
    "version": 3
   },
   "file_extension": ".py",
   "mimetype": "text/x-python",
   "name": "python",
   "nbconvert_exporter": "python",
   "pygments_lexer": "ipython3",
   "version": "3.11.3"
  }
 },
 "nbformat": 4,
 "nbformat_minor": 5
}
